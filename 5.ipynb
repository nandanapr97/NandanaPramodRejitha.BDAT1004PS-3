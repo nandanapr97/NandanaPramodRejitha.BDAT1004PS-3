{
 "cells": [
  {
   "cell_type": "markdown",
   "id": "65441431",
   "metadata": {},
   "source": [
    "Question 5"
   ]
  },
  {
   "cell_type": "code",
   "execution_count": 1,
   "id": "63209934",
   "metadata": {},
   "outputs": [],
   "source": [
    "# Import the necessary libraries\n",
    "import pandas as pd\n",
    "import numpy as np\n"
   ]
  },
  {
   "cell_type": "code",
   "execution_count": 4,
   "id": "2d233fce",
   "metadata": {},
   "outputs": [],
   "source": [
    "# Import the dataset from this address.\n",
    "#Assign it to a variable called chipo.\n",
    "\n",
    "# Dataset URL\n",
    "url = 'https://raw.githubusercontent.com/justmarkham/DAT8/master/data/chipotle.tsv'\n",
    "\n",
    "# Read the dataset into a DataFrame called chipo\n",
    "chipo = pd.read_csv(url, sep='\\t')\n"
   ]
  },
  {
   "cell_type": "code",
   "execution_count": 3,
   "id": "9f67545a",
   "metadata": {},
   "outputs": [
    {
     "data": {
      "text/html": [
       "<div>\n",
       "<style scoped>\n",
       "    .dataframe tbody tr th:only-of-type {\n",
       "        vertical-align: middle;\n",
       "    }\n",
       "\n",
       "    .dataframe tbody tr th {\n",
       "        vertical-align: top;\n",
       "    }\n",
       "\n",
       "    .dataframe thead th {\n",
       "        text-align: right;\n",
       "    }\n",
       "</style>\n",
       "<table border=\"1\" class=\"dataframe\">\n",
       "  <thead>\n",
       "    <tr style=\"text-align: right;\">\n",
       "      <th></th>\n",
       "      <th>order_id</th>\n",
       "      <th>quantity</th>\n",
       "      <th>item_name</th>\n",
       "      <th>choice_description</th>\n",
       "      <th>item_price</th>\n",
       "    </tr>\n",
       "  </thead>\n",
       "  <tbody>\n",
       "    <tr>\n",
       "      <th>0</th>\n",
       "      <td>1</td>\n",
       "      <td>1</td>\n",
       "      <td>Chips and Fresh Tomato Salsa</td>\n",
       "      <td>NaN</td>\n",
       "      <td>$2.39</td>\n",
       "    </tr>\n",
       "    <tr>\n",
       "      <th>1</th>\n",
       "      <td>1</td>\n",
       "      <td>1</td>\n",
       "      <td>Izze</td>\n",
       "      <td>[Clementine]</td>\n",
       "      <td>$3.39</td>\n",
       "    </tr>\n",
       "    <tr>\n",
       "      <th>2</th>\n",
       "      <td>1</td>\n",
       "      <td>1</td>\n",
       "      <td>Nantucket Nectar</td>\n",
       "      <td>[Apple]</td>\n",
       "      <td>$3.39</td>\n",
       "    </tr>\n",
       "    <tr>\n",
       "      <th>3</th>\n",
       "      <td>1</td>\n",
       "      <td>1</td>\n",
       "      <td>Chips and Tomatillo-Green Chili Salsa</td>\n",
       "      <td>NaN</td>\n",
       "      <td>$2.39</td>\n",
       "    </tr>\n",
       "    <tr>\n",
       "      <th>4</th>\n",
       "      <td>2</td>\n",
       "      <td>2</td>\n",
       "      <td>Chicken Bowl</td>\n",
       "      <td>[Tomatillo-Red Chili Salsa (Hot), [Black Beans...</td>\n",
       "      <td>$16.98</td>\n",
       "    </tr>\n",
       "    <tr>\n",
       "      <th>5</th>\n",
       "      <td>3</td>\n",
       "      <td>1</td>\n",
       "      <td>Chicken Bowl</td>\n",
       "      <td>[Fresh Tomato Salsa (Mild), [Rice, Cheese, Sou...</td>\n",
       "      <td>$10.98</td>\n",
       "    </tr>\n",
       "    <tr>\n",
       "      <th>6</th>\n",
       "      <td>3</td>\n",
       "      <td>1</td>\n",
       "      <td>Side of Chips</td>\n",
       "      <td>NaN</td>\n",
       "      <td>$1.69</td>\n",
       "    </tr>\n",
       "    <tr>\n",
       "      <th>7</th>\n",
       "      <td>4</td>\n",
       "      <td>1</td>\n",
       "      <td>Steak Burrito</td>\n",
       "      <td>[Tomatillo Red Chili Salsa, [Fajita Vegetables...</td>\n",
       "      <td>$11.75</td>\n",
       "    </tr>\n",
       "    <tr>\n",
       "      <th>8</th>\n",
       "      <td>4</td>\n",
       "      <td>1</td>\n",
       "      <td>Steak Soft Tacos</td>\n",
       "      <td>[Tomatillo Green Chili Salsa, [Pinto Beans, Ch...</td>\n",
       "      <td>$9.25</td>\n",
       "    </tr>\n",
       "    <tr>\n",
       "      <th>9</th>\n",
       "      <td>5</td>\n",
       "      <td>1</td>\n",
       "      <td>Steak Burrito</td>\n",
       "      <td>[Fresh Tomato Salsa, [Rice, Black Beans, Pinto...</td>\n",
       "      <td>$9.25</td>\n",
       "    </tr>\n",
       "  </tbody>\n",
       "</table>\n",
       "</div>"
      ],
      "text/plain": [
       "   order_id  quantity                              item_name  \\\n",
       "0         1         1           Chips and Fresh Tomato Salsa   \n",
       "1         1         1                                   Izze   \n",
       "2         1         1                       Nantucket Nectar   \n",
       "3         1         1  Chips and Tomatillo-Green Chili Salsa   \n",
       "4         2         2                           Chicken Bowl   \n",
       "5         3         1                           Chicken Bowl   \n",
       "6         3         1                          Side of Chips   \n",
       "7         4         1                          Steak Burrito   \n",
       "8         4         1                       Steak Soft Tacos   \n",
       "9         5         1                          Steak Burrito   \n",
       "\n",
       "                                  choice_description item_price  \n",
       "0                                                NaN     $2.39   \n",
       "1                                       [Clementine]     $3.39   \n",
       "2                                            [Apple]     $3.39   \n",
       "3                                                NaN     $2.39   \n",
       "4  [Tomatillo-Red Chili Salsa (Hot), [Black Beans...    $16.98   \n",
       "5  [Fresh Tomato Salsa (Mild), [Rice, Cheese, Sou...    $10.98   \n",
       "6                                                NaN     $1.69   \n",
       "7  [Tomatillo Red Chili Salsa, [Fajita Vegetables...    $11.75   \n",
       "8  [Tomatillo Green Chili Salsa, [Pinto Beans, Ch...     $9.25   \n",
       "9  [Fresh Tomato Salsa, [Rice, Black Beans, Pinto...     $9.25   "
      ]
     },
     "execution_count": 3,
     "metadata": {},
     "output_type": "execute_result"
    }
   ],
   "source": [
    "# See the first 10 entries\n",
    "chipo.head(10)\n"
   ]
  },
  {
   "cell_type": "code",
   "execution_count": 5,
   "id": "f159f89c",
   "metadata": {},
   "outputs": [
    {
     "name": "stdout",
     "output_type": "stream",
     "text": [
      "Number of observations: 4622\n"
     ]
    }
   ],
   "source": [
    "# What is the number of observations in the dataset?\n",
    "\n",
    "number_of_observations = chipo.shape[0]\n",
    "print(f'Number of observations: {number_of_observations}')"
   ]
  },
  {
   "cell_type": "code",
   "execution_count": 6,
   "id": "dd63e766",
   "metadata": {},
   "outputs": [
    {
     "name": "stdout",
     "output_type": "stream",
     "text": [
      "Number of columns: 5\n"
     ]
    }
   ],
   "source": [
    "# What is the number of columns in the dataset?\n",
    "\n",
    "number_of_columns = chipo.shape[1]\n",
    "print(f'Number of columns: {number_of_columns}')"
   ]
  },
  {
   "cell_type": "code",
   "execution_count": 7,
   "id": "37f403df",
   "metadata": {},
   "outputs": [
    {
     "name": "stdout",
     "output_type": "stream",
     "text": [
      "Column names: Index(['order_id', 'quantity', 'item_name', 'choice_description',\n",
      "       'item_price'],\n",
      "      dtype='object')\n"
     ]
    }
   ],
   "source": [
    "#Print the name of all the columns.\n",
    "column_name = chipo.columns\n",
    "print('Column names:', column_name)"
   ]
  },
  {
   "cell_type": "code",
   "execution_count": 8,
   "id": "8d15bd6c",
   "metadata": {},
   "outputs": [
    {
     "name": "stdout",
     "output_type": "stream",
     "text": [
      "Index information: RangeIndex(start=0, stop=4622, step=1)\n"
     ]
    }
   ],
   "source": [
    "# How is the dataset indexed?\n",
    "index_info = chipo.index\n",
    "print('Index information:', index_info)"
   ]
  },
  {
   "cell_type": "code",
   "execution_count": 10,
   "id": "f922eca0",
   "metadata": {},
   "outputs": [
    {
     "name": "stdout",
     "output_type": "stream",
     "text": [
      "Most-ordered item: Chicken Bowl\n"
     ]
    }
   ],
   "source": [
    "#Which was the most-ordered item?\n",
    "\n",
    "most_ordered = chipo.groupby('item_name')['quantity'].sum().sort_values(ascending=False).index[0]\n",
    "print(f'Most-ordered item: {most_ordered}')"
   ]
  },
  {
   "cell_type": "code",
   "execution_count": 11,
   "id": "32b1ec4e",
   "metadata": {},
   "outputs": [
    {
     "name": "stdout",
     "output_type": "stream",
     "text": [
      "Quantity ordered for the most-ordered item (Chicken Bowl): 761\n"
     ]
    }
   ],
   "source": [
    "# For the most-ordered item, how many items were ordered?\n",
    "most_ordered_item_quantity = chipo[chipo['item_name'] == most_ordered_item]['quantity'].sum()\n",
    "print(f'Quantity ordered for the most-ordered item ({most_ordered_item}): {most_ordered_item_quantity}')"
   ]
  },
  {
   "cell_type": "code",
   "execution_count": 12,
   "id": "b34b7cc8",
   "metadata": {},
   "outputs": [
    {
     "name": "stdout",
     "output_type": "stream",
     "text": [
      "Most-ordered item in choice_description: [Diet Coke]\n"
     ]
    }
   ],
   "source": [
    "#What was the most ordered item in the choice_description column?\n",
    "\n",
    "choice_most_ordered = chipo.groupby('choice_description')['quantity'].sum().sort_values(ascending=False).index[0]\n",
    "print(f'Most-ordered item in choice_description: {choice_most_ordered}')"
   ]
  },
  {
   "cell_type": "code",
   "execution_count": 13,
   "id": "dffb73ec",
   "metadata": {},
   "outputs": [
    {
     "name": "stdout",
     "output_type": "stream",
     "text": [
      "Total items ordered: 4972\n"
     ]
    }
   ],
   "source": [
    "#How many items were ordered in total?\n",
    "\n",
    "number_of_total_items = chipo['quantity'].sum()\n",
    "print(f'Total items ordered: {number_of_total_items}')"
   ]
  },
  {
   "cell_type": "code",
   "execution_count": 17,
   "id": "56d94316",
   "metadata": {},
   "outputs": [
    {
     "name": "stdout",
     "output_type": "stream",
     "text": [
      "Item price type before conversion: float64\n",
      "Item price type after conversion: float64\n"
     ]
    }
   ],
   "source": [
    "# Step 13. Turn the item price into a float\n",
    "# Check the item price type before conversion\n",
    "item_price_type_before_conversion = chipo['item_price'].dtype\n",
    "print(f'Item price type before conversion: {item_price_type_before_conversion}')\n",
    "\n",
    "# Check if the 'item_price' column is in string format\n",
    "if chipo['item_price'].dtype == 'O':\n",
    "    # Create a lambda function to change the type of item price\n",
    "    convert_to_float = lambda x: float(x[1:])\n",
    "    \n",
    "    # Apply the lambda function to the 'item_price' column\n",
    "    chipo['item_price'] = chipo['item_price'].apply(convert_to_float)\n",
    "\n",
    "# Check the item price type after conversion\n",
    "item_price_type_after_conversion = chipo['item_price'].dtype\n",
    "print(f'Item price type after conversion: {item_price_type_after_conversion}')\n",
    "\n",
    "\n"
   ]
  },
  {
   "cell_type": "code",
   "execution_count": 20,
   "id": "26c9949d",
   "metadata": {},
   "outputs": [
    {
     "name": "stdout",
     "output_type": "stream",
     "text": [
      " Total revenue: $39237.02\n"
     ]
    }
   ],
   "source": [
    "#  Calculate the total revenue\n",
    "chipo['item_price'] = chipo['item_price'].astype(float)  \n",
    "chipo['revenue'] = chipo['quantity'] * chipo['item_price']\n",
    "revenue_total = chipo['revenue'].sum()\n",
    "print(f\" Total revenue: ${total_revenue:.2f}\")"
   ]
  },
  {
   "cell_type": "code",
   "execution_count": 21,
   "id": "8ae91a8c",
   "metadata": {},
   "outputs": [
    {
     "name": "stdout",
     "output_type": "stream",
     "text": [
      " Number of orders made: 1834\n"
     ]
    }
   ],
   "source": [
    "#Calculate the number of orders made\n",
    "number_of_orders = chipo['order_id'].nunique()\n",
    "print(f\" Number of orders made: {number_of_orders}\")"
   ]
  },
  {
   "cell_type": "code",
   "execution_count": 23,
   "id": "8fd012a1",
   "metadata": {},
   "outputs": [
    {
     "name": "stdout",
     "output_type": "stream",
     "text": [
      "Average revenue amount per order: $21.39\n"
     ]
    }
   ],
   "source": [
    "# Calculate the average revenue amount per order\n",
    "average_revenue_per_order = revenue_total / number_of_orders\n",
    "print(f\"Average revenue amount per order: ${average_revenue_per_order:.2f}\")"
   ]
  },
  {
   "cell_type": "code",
   "execution_count": 24,
   "id": "c17b98e2",
   "metadata": {},
   "outputs": [
    {
     "name": "stdout",
     "output_type": "stream",
     "text": [
      "Number of different items sold: 50\n"
     ]
    }
   ],
   "source": [
    "#Calculate the number of different items sold\n",
    "number_of_different_items_sold = chipo['item_name'].nunique()\n",
    "print(f\"Number of different items sold: {number_of_different_items_sold}\")"
   ]
  },
  {
   "cell_type": "code",
   "execution_count": null,
   "id": "1c5724fd",
   "metadata": {},
   "outputs": [],
   "source": []
  }
 ],
 "metadata": {
  "kernelspec": {
   "display_name": "Python 3 (ipykernel)",
   "language": "python",
   "name": "python3"
  },
  "language_info": {
   "codemirror_mode": {
    "name": "ipython",
    "version": 3
   },
   "file_extension": ".py",
   "mimetype": "text/x-python",
   "name": "python",
   "nbconvert_exporter": "python",
   "pygments_lexer": "ipython3",
   "version": "3.11.5"
  }
 },
 "nbformat": 4,
 "nbformat_minor": 5
}
